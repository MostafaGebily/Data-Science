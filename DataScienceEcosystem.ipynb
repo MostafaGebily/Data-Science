{
 "cells": [
  {
   "cell_type": "markdown",
   "id": "4e7dbc84",
   "metadata": {},
   "source": [
    "# Data Science Tools and Ecosystem"
   ]
  },
  {
   "cell_type": "markdown",
   "id": "3ad007ee",
   "metadata": {},
   "source": [
    "In this notebook, Data Science Tools and Ecosystem are summarized."
   ]
  },
  {
   "cell_type": "markdown",
   "id": "c1f8c54e",
   "metadata": {},
   "source": [
    "# Objectives:\n",
    "List popular languages for Data Science\n",
    "List commonly used libraries for data science\n",
    "List Data Science tools\n",
    "Example of arthimatic equation in python"
   ]
  },
  {
   "cell_type": "markdown",
   "id": "086e1f37",
   "metadata": {},
   "source": [
    "Some of the popular languages that Data Scientists use are:\n",
    "1-python\n",
    "2-R\n",
    "3-SQL"
   ]
  },
  {
   "cell_type": "markdown",
   "id": "959f81a6",
   "metadata": {},
   "source": [
    "Some of the commonly used libraries used by Data Scientists include:\n",
    "1-Pandas\n",
    "2-Numpy\n",
    "3-Matplotlib"
   ]
  },
  {
   "cell_type": "markdown",
   "id": "14fcf371",
   "metadata": {},
   "source": [
    "Data Science Tools\n",
    "Jupyter Notebook\n",
    "R studio\n",
    "Github"
   ]
  },
  {
   "cell_type": "markdown",
   "id": "98d4d561",
   "metadata": {},
   "source": [
    "### Below are a few examples of evaluating arithmetic expressions in Python"
   ]
  },
  {
   "cell_type": "code",
   "execution_count": 13,
   "id": "2c6ee31d",
   "metadata": {},
   "outputs": [
    {
     "data": {
      "text/plain": [
       "17"
      ]
     },
     "execution_count": 13,
     "metadata": {},
     "output_type": "execute_result"
    }
   ],
   "source": [
    "# This a simple arithmetic expression to mutiply then add integers\n",
    "(3*4)+5"
   ]
  },
  {
   "cell_type": "code",
   "execution_count": null,
   "id": "bbb303fe",
   "metadata": {},
   "outputs": [],
   "source": [
    "# This will convert 200 minutes to hours by diving by 60\n",
    "minutes= 200\n",
    "hours=str(minutes/60)\n",
    "print(hours + \" Hours\")"
   ]
  },
  {
   "cell_type": "markdown",
   "id": "6060c285",
   "metadata": {},
   "source": [
    "## Author\n",
    "Mostafa Said Mostafa Gebily"
   ]
  }
 ],
 "metadata": {
  "kernelspec": {
   "display_name": "Python 3 (ipykernel)",
   "language": "python",
   "name": "python3"
  },
  "language_info": {
   "codemirror_mode": {
    "name": "ipython",
    "version": 3
   },
   "file_extension": ".py",
   "mimetype": "text/x-python",
   "name": "python",
   "nbconvert_exporter": "python",
   "pygments_lexer": "ipython3",
   "version": "3.9.7"
  }
 },
 "nbformat": 4,
 "nbformat_minor": 5
}
